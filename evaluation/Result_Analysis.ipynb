{
 "cells": [
  {
   "cell_type": "markdown",
   "metadata": {},
   "source": [
    "# MySql Copilot Experiment Result Analysis\n",
    "\n",
    "This notebook demonstrates how the evaluation result of LLM Agents can analyzed."
   ]
  },
  {
   "cell_type": "code",
   "execution_count": 1,
   "metadata": {},
   "outputs": [
    {
     "name": "stdout",
     "output_type": "stream",
     "text": [
      "Note: you may need to restart the kernel to use updated packages.\n"
     ]
    }
   ],
   "source": [
    "%pip install -q pandas matplotlib seaborn"
   ]
  },
  {
   "cell_type": "code",
   "execution_count": 2,
   "metadata": {},
   "outputs": [],
   "source": [
    "# Imports\n",
    "import os\n",
    "import sys\n",
    "import json\n",
    "from ast import literal_eval\n",
    "import pandas as pd\n",
    "from sqlalchemy import create_engine\n",
    "import warnings; warnings.simplefilter('ignore')\n",
    "import matplotlib.pyplot as plt\n",
    "import seaborn as sns\n",
    "\n",
    "sys.path.append(os.path.join(os.path.abspath(''), '../experimentation'))\n",
    "sys.path.append(os.path.join(os.path.abspath(''), '../'))\n",
    "from exp_src.persistence.database_setup import DataPersistence"
   ]
  },
  {
   "cell_type": "code",
   "execution_count": 3,
   "metadata": {},
   "outputs": [],
   "source": [
    "engine = create_engine(DataPersistence().get_connection_url())"
   ]
  },
  {
   "cell_type": "code",
   "execution_count": 4,
   "metadata": {},
   "outputs": [],
   "source": [
    "df_steps = pd.read_sql_table('steps', engine)\n",
    "df_feedbacks = pd.read_sql_table('feedbacks', engine)"
   ]
  },
  {
   "cell_type": "markdown",
   "metadata": {},
   "source": [
    "## Evaluation Result: LLM As Judge (Azure AI Foundry)\n",
    "\n",
    "**Prerequisites:**\n",
    "\n",
    "- Create Azure AI Foundry workspace and store the project connection string (`AIPROJECT_CONNECTION_STRING`) in the current directory [.env](.env) file.\n",
    "- Deploy the LLM model GPT-4 or above is preferred. Store the model name (`EVALUATION_MODEL`) in the current directory [.env](.env) file."
   ]
  },
  {
   "cell_type": "code",
   "execution_count": 8,
   "metadata": {},
   "outputs": [],
   "source": [
    "# Extract data convert to JSONL format as per Azure Prompt Flow\n",
    "df_eval_dataset = df_steps[[\"id\", \"name\", \"type\", \"metadata\", \"threadId\", \"parentId\", \"input\", \"output\"]]\n",
    "df_eval_dataset[\"experiment\"] = df_eval_dataset[\"metadata\"].apply(lambda x: literal_eval(x)[\"experiment\"] if \"experiment\" in literal_eval(x) else None)\n",
    "df_eval_dataset = df_eval_dataset[~df_eval_dataset[\"name\"].isin([\"on_chat_start\", \"user\", \"admin\", \"termination\"])]\n",
    "df_eval_dataset[\"input\"] = df_eval_dataset.apply(lambda x: df_eval_dataset[(df_eval_dataset[\"name\"] == \"on_message\") \n",
    "    & (df_eval_dataset[\"id\"] == x[\"parentId\"])][\"input\"].values[0] if x[\"name\"] != \"on_message\" else x[\"input\"], axis=1)\n",
    "df_eval_dataset = df_eval_dataset[~df_eval_dataset[\"name\"].isin([\"on_message\"])]\n",
    "df_eval_dataset.drop(columns=[\"metadata\", \"type\"], inplace=True)\n",
    "df_eval_dataset[\"output\"] = df_eval_dataset[\"output\"].apply(lambda x: x+\"\\n\" if x is not None else x)\n",
    "df_eval_dataset[\"conversation_history\"] = df_eval_dataset.groupby(\"threadId\")[\"output\"].transform(lambda x: x.shift().fillna(\"\").cumsum())\n",
    "df_eval_dataset = df_eval_dataset[~df_eval_dataset[\"name\"].isin([\"executor\"])]"
   ]
  },
  {
   "cell_type": "code",
   "execution_count": 9,
   "metadata": {},
   "outputs": [],
   "source": [
    "# Create individual JSONL files for each name\n",
    "if os.path.exists(\".evaluation_input_data\"):\n",
    "    for file in os.listdir(\".evaluation_input_data\"):\n",
    "        os.remove(f\".evaluation_input_data/{file}\")\n",
    "    os.rmdir(\".evaluation_input_data\")\n",
    "os.makedirs(\".evaluation_input_data\")\n",
    "for name in df_eval_dataset[\"name\"].unique():\n",
    "    df_name = df_eval_dataset[df_eval_dataset[\"name\"] == name]\n",
    "    df_name.to_json(f\".evaluation_input_data/{name}.jsonl\", orient=\"records\", lines=True)"
   ]
  },
  {
   "cell_type": "markdown",
   "metadata": {},
   "source": [
    "Run the following command from the same directory as the evaluation result file to generate the analysis.\n",
    "\n",
    "```bash\n",
    "pip install -r requirements_eval.txt\n",
    "python ./run_azure_ai_foundry_local_eval.py error ./.evaluation_input_data/error.jsonl\n",
    "python ./run_azure_ai_foundry_local_eval.py observe ./.evaluation_input_data/observe.jsonl\n",
    "python ./run_azure_ai_foundry_local_eval.py select ./.evaluation_input_data/select.jsonl\n",
    "python ./run_azure_ai_foundry_local_eval.py verify ./.evaluation_input_data/verify.jsonl\n",
    "```"
   ]
  },
  {
   "cell_type": "code",
   "execution_count": 12,
   "metadata": {},
   "outputs": [
    {
     "data": {
      "text/html": [
       "<div>\n",
       "<style scoped>\n",
       "    .dataframe tbody tr th:only-of-type {\n",
       "        vertical-align: middle;\n",
       "    }\n",
       "\n",
       "    .dataframe tbody tr th {\n",
       "        vertical-align: top;\n",
       "    }\n",
       "\n",
       "    .dataframe thead th {\n",
       "        text-align: right;\n",
       "    }\n",
       "</style>\n",
       "<table border=\"1\" class=\"dataframe\">\n",
       "  <thead>\n",
       "    <tr style=\"text-align: right;\">\n",
       "      <th>name</th>\n",
       "      <th>experiment</th>\n",
       "      <th>error</th>\n",
       "      <th>observe</th>\n",
       "      <th>select</th>\n",
       "      <th>verify</th>\n",
       "      <th>overall_groundedness_score</th>\n",
       "    </tr>\n",
       "  </thead>\n",
       "  <tbody>\n",
       "    <tr>\n",
       "      <th>0</th>\n",
       "      <td>SQL Copilot Experiment</td>\n",
       "      <td>1.0</td>\n",
       "      <td>0.0</td>\n",
       "      <td>0.916667</td>\n",
       "      <td>0.954545</td>\n",
       "      <td>0.717803</td>\n",
       "    </tr>\n",
       "  </tbody>\n",
       "</table>\n",
       "</div>"
      ],
      "text/plain": [
       "name              experiment  error  observe    select    verify  \\\n",
       "0     SQL Copilot Experiment    1.0      0.0  0.916667  0.954545   \n",
       "\n",
       "name  overall_groundedness_score  \n",
       "0                       0.717803  "
      ]
     },
     "execution_count": 12,
     "metadata": {},
     "output_type": "execute_result"
    }
   ],
   "source": [
    "# Read the output metrics\n",
    "df_llm_eval = pd.DataFrame()\n",
    "for file in os.listdir(\".evaluation_output_data\"):\n",
    "    json_content_str = open(f\".evaluation_output_data/{file}\", \"r\").read()\n",
    "    json_content = json.loads(json_content_str)\n",
    "    tmp_df = pd.DataFrame(json_content[\"rows\"])\n",
    "    df_llm_eval = pd.concat([df_llm_eval, tmp_df])\n",
    "    del tmp_df\n",
    "df_llm_eval = df_llm_eval[[\"inputs.name\", \"inputs.experiment\", \"outputs.groundedness.groundedness\"]]\n",
    "df_llm_eval.columns = [\"name\", \"experiment\", \"groundedness_score\"]\n",
    "df_llm_eval[\"groundedness_score\"] = df_llm_eval[\"groundedness_score\"].apply(lambda x: (x-1)/4)\n",
    "df_llm_eval = df_llm_eval.groupby([\"experiment\", \"name\"]).mean().reset_index()\n",
    "df_llm_eval = df_llm_eval.pivot(index=\"experiment\", columns=\"name\", values=\"groundedness_score\").reset_index()\n",
    "df_llm_eval[\"overall_groundedness_score\"] = df_llm_eval[[col for col in df_llm_eval.columns if col != \"experiment\"]].mean(axis=1)\n",
    "df_llm_eval.head(20)"
   ]
  },
  {
   "cell_type": "markdown",
   "metadata": {},
   "source": [
    "## Evaluation Result: Human Evaluation"
   ]
  },
  {
   "cell_type": "code",
   "execution_count": 13,
   "metadata": {},
   "outputs": [
    {
     "data": {
      "text/html": [
       "<div>\n",
       "<style scoped>\n",
       "    .dataframe tbody tr th:only-of-type {\n",
       "        vertical-align: middle;\n",
       "    }\n",
       "\n",
       "    .dataframe tbody tr th {\n",
       "        vertical-align: top;\n",
       "    }\n",
       "\n",
       "    .dataframe thead th {\n",
       "        text-align: right;\n",
       "    }\n",
       "</style>\n",
       "<table border=\"1\" class=\"dataframe\">\n",
       "  <thead>\n",
       "    <tr style=\"text-align: right;\">\n",
       "      <th>name</th>\n",
       "      <th>experiment</th>\n",
       "      <th>overall_score</th>\n",
       "      <th>error</th>\n",
       "      <th>executor</th>\n",
       "      <th>observe</th>\n",
       "      <th>select</th>\n",
       "      <th>verify</th>\n",
       "    </tr>\n",
       "  </thead>\n",
       "  <tbody>\n",
       "    <tr>\n",
       "      <th>0</th>\n",
       "      <td>SQL Copilot Experiment</td>\n",
       "      <td>0.4</td>\n",
       "      <td>1.0</td>\n",
       "      <td>0.380952</td>\n",
       "      <td>0.6</td>\n",
       "      <td>0.444444</td>\n",
       "      <td>0.272727</td>\n",
       "    </tr>\n",
       "  </tbody>\n",
       "</table>\n",
       "</div>"
      ],
      "text/plain": [
       "name              experiment  overall_score  error  executor  observe  \\\n",
       "0     SQL Copilot Experiment            0.4    1.0  0.380952      0.6   \n",
       "\n",
       "name    select    verify  \n",
       "0     0.444444  0.272727  "
      ]
     },
     "execution_count": 13,
     "metadata": {},
     "output_type": "execute_result"
    }
   ],
   "source": [
    "# Human evaluation result per experiment\n",
    "df = pd.merge(df_steps, df_feedbacks, left_on='id', right_on='forId')\n",
    "df = df.drop(columns=['id_y', 'forId', 'threadId_y'])\n",
    "df = df.rename(columns={'id_x': 'id', 'threadId_x': 'threadId'})\n",
    "df[\"experiment\"] = df[\"metadata\"].apply(lambda x: literal_eval(x)[\"experiment\"] if \"experiment\" in literal_eval(x) else None)\n",
    "df[\"experiment\"] = df.apply(lambda x: x[\"experiment\"] if x[\"experiment\"] is not None else df.iloc[x.name + 1][\"experiment\"], axis=1)\n",
    "df_agents_summary = df[[\"experiment\", \"name\", \"value\"]].groupby([\"experiment\", \"name\"], sort=False).mean().reset_index()\n",
    "df_agents_summary = df_agents_summary.pivot(index='experiment', columns='name', values='value').reset_index()\n",
    "df_agents_summary = df_agents_summary.rename(columns={\"on_message\": \"overall_score\"})\n",
    "cols = df_agents_summary.columns.tolist()\n",
    "cols = [c for c in cols if c != \"overall_score\"]\n",
    "cols.insert(1, \"overall_score\")\n",
    "df_agents_summary = df_agents_summary[cols]\n",
    "df_agents_summary.head(20)"
   ]
  },
  {
   "cell_type": "markdown",
   "metadata": {},
   "source": [
    "## Evaluation Result: LLM As Judge vs Human Evaluation"
   ]
  },
  {
   "cell_type": "code",
   "execution_count": 15,
   "metadata": {},
   "outputs": [
    {
     "data": {
      "image/png": "[encoded data removed]",
      "text/plain": [
       "<Figure size 1000x500 with 4 Axes>"
      ]
     },
     "metadata": {},
     "output_type": "display_data"
    }
   ],
   "source": [
    "fig, ax = plt.subplots(1, 2, figsize=(10, 5))\n",
    "sns.heatmap(df_llm_eval.set_index('experiment').drop(columns='overall_groundedness_score'), cmap=sns.color_palette(\"RdYlGn\", as_cmap=True), ax=ax[0])\n",
    "sns.heatmap(df_agents_summary.set_index('experiment').drop(columns=['overall_score', 'executor']), cmap=sns.color_palette(\"RdYlGn\", as_cmap=True), ax=ax[1])\n",
    "ax[0].set_title('LLM Evaluation')\n",
    "ax[1].set_title('Human Evaluation')\n",
    "plt.tight_layout()\n",
    "plt.show()\n",
    "\n"
   ]
  }
 ],
 "metadata": {
  "kernelspec": {
   "display_name": "semantic-kernel",
   "language": "python",
   "name": "python3"
  },
  "language_info": {
   "codemirror_mode": {
    "name": "ipython",
    "version": 3
   },
   "file_extension": ".py",
   "mimetype": "text/x-python",
   "name": "python",
   "nbconvert_exporter": "python",
   "pygments_lexer": "ipython3",
   "version": "3.13.1"
  }
 },
 "nbformat": 4,
 "nbformat_minor": 2
}
